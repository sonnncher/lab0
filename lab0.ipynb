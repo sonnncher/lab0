{
 "cells": [
  {
   "cell_type": "markdown",
   "id": "ff1f5fdc-47f1-4e5d-bd94-6f24919ee93a",
   "metadata": {},
   "source": [
    "# Країна: Джибуті"
   ]
  },
  {
   "cell_type": "code",
   "execution_count": 2,
   "id": "8ec6339a-9d33-4f5e-91fc-acc60fc474ac",
   "metadata": {
    "scrolled": true
   },
   "outputs": [
    {
     "data": {
      "text/html": [
       "<svg width=\"300\" height=\"180\">\n",
       "  <rect width=\"300\" height=\"90\" style=\"fill:#00a3e0;\" />\n",
       "  <rect y=\"90\" width=\"300\" height=\"90\" style=\"fill:#009e49;\" />\n",
       "  <polygon points=\"0,0 0,180 120,90\" style=\"fill:#ffffff;\" />\n",
       "  <polygon points=\"60,70 65,85 80,85 70,95 75,110 60,100 45,110 50,95 40,85 55,85\" style=\"fill:#d52b1e;\" />\n",
       "</svg>\n"
      ],
      "text/plain": [
       "<IPython.core.display.HTML object>"
      ]
     },
     "metadata": {},
     "output_type": "display_data"
    }
   ],
   "source": [
    "%%HTML\n",
    "<svg width=\"300\" height=\"180\">\n",
    "  <rect width=\"300\" height=\"90\" style=\"fill:#00a3e0;\" />\n",
    "  <rect y=\"90\" width=\"300\" height=\"90\" style=\"fill:#009e49;\" />\n",
    "  <polygon points=\"0,0 0,180 120,90\" style=\"fill:#ffffff;\" />\n",
    "  <polygon points=\"60,70 65,85 80,85 70,95 75,110 60,100 45,110 50,95 40,85 55,85\" style=\"fill:#d52b1e;\" />\n",
    "</svg>"
   ]
  },
  {
   "cell_type": "markdown",
   "id": "41800886-9f2f-419c-8f5e-d1a2951ebd02",
   "metadata": {},
   "source": [
    "## Загальна інформація \n",
    "**Джибуті** - держава на півночі Африканського Рогу. Межує із Еритреєю на півночі, з Ефіопією — на заході й півдні, з Сомалі — на південному-сході. Решта кордону проходить по Червоному морю і Аденській затоці. По іншу сторону Червоного моря, на Аравійському півострові, за 20 км від узбережжя Джибуті, розташована республіка Ємен. Джибуті — розміром близько 23 200 квадратних кілометрів. Столицею країни й головним портом є місто Джибуті. Країна входить до числа країн, що розвиваються. "
   ]
  },
  {
   "cell_type": "markdown",
   "id": "e28fc6b8-97d1-48be-b730-66be46d9d318",
   "metadata": {},
   "source": [
    "<div style=\"border: 2px solid black; padding: 10px;\">\n",
    "  <ul>\n",
    "    <li>Столиця (та найбільше місто): Джибуті </li>\n",
    "    <li>Площа\n",
    "      <ul>\n",
    "        <li>Загалом: 23 200 км² </li>\n",
    "        <li>Внутр. води: 0,09 (20/ 7.7 mi²) %</li>\n",
    "      </ul>\n",
    "    </li>\n",
    "    <li>Населення\n",
    "        <ul>\n",
    "        <li>Оцінка липень 2005: 793 000 </li>\n",
    "        <li>Перепис 2000: 460 700</li>\n",
    "        <li>Густота: 34/км²</li>\n",
    "      </ul>\n",
    "    </li>\n",
    "  </ul>\n",
    "</div>"
   ]
  },
  {
   "cell_type": "markdown",
   "id": "7e9f59c1-1f52-4d7b-ae7b-78788c3e637a",
   "metadata": {},
   "source": [
    "<h2 style=\"color:red;\">Клімат</h2>\n",
    "Клімат *тропічний, спекотний і сухий*. Кам'янисті западини і улоговини — одне з найбільш спекотних місць на земній кулі. Середні місячні температури повітря +27-35 °С. максимуму — +42-43 °С — вони досягають у липні. У місті Джибуті мінімальна середня річна температура досягає 25 °С, середня максимальна — 35 °С, а в западинах перевищує 40 °С. У зимові місяці спека трохи спадає. Опадів у країні випадає вкрай мало — від 130 мм у Джибуті до 45 мм на берегах бада Ассаль. Найбільша кількість вологи (500 мм) випадає в горах Рогу та Мабла."
   ]
  },
  {
   "cell_type": "markdown",
   "id": "b404ecce-dcb7-43ba-b3d2-41f8de7bac84",
   "metadata": {},
   "source": [
    "| Показник               | Січень | Лютий | Березень | Квітень | Травень | Червень | Липень | Серпень | Вересень | Жовтень | Листопад | Грудень |\n",
    "|:-----------------------|:------:|------:|:--------:|--------:|--------:|--------:|:------:|--------:|:--------:|--------:|:--------:|--------:|\n",
    "| Абсолютний максимум, °C | 34     |   34  |    37    |    38   |     44  |     47  |   47  |    47   |    44    |    39   |    36    |    34   |\n",
    "| Середній максимум, °C   | 29     |   29  |    31    |    32   |     34  |     37  |   41  |    39   |    36    |    33   |    31    |    29   |\n",
    "| Середній мінімум, °C    | 23     |   24  |    25    |    26   |     28  |     30  |   31  |    29   |    29    |    27   |    25    |    23   |\n",
    "| Абсолютний мінімум, °C  | 19     |   18  |    21    |    21   |     21  |     23  |   22  |    22   |    23    |    21   |    18    |    17   |\n",
    "| Кількість дощових днів  | 3      |   2   |    2     |    1    |     1   |     0   |   1   |    1    |    1     |    1    |    2     |    2    |"
   ]
  },
  {
   "cell_type": "markdown",
   "id": "0717e21b-1d5d-495f-959b-19c884082015",
   "metadata": {},
   "source": [
    "<h3 style=\"color:blue;\">Внутрішні води</h3>\n",
    "Коли з Аравії в червні — серпні починають дути піщані хамсини, температура у Джибуті сягає 45 °C. На початку і в кінці цього спекотного періоду в травні і вересні (час тангабілі), в місті Джибуті вологість повітря сягає майже 100 %. У такій атмосфері людям важко дихати, зате бідна рослинність кам'янистих рівнин починає оживати. Час «тангабілі» — справжній порятунок для цієї країни, де немає постійних річок. Великі озера — Ассаль (солоне) і Аббе (прісне). Нестача питної води є однією з головних проблем. На найближчі роки вона може бути вирішена шляхом більш широкого використання підземних вод."
   ]
  },
  {
   "cell_type": "markdown",
   "id": "b8ed2b97-3c38-4ce6-acb4-b7c4a732ef03",
   "metadata": {},
   "source": [
    "### Адміністративно-територіальний поділ\n",
    "В адміністративно-територіальному відношенні територія держави поділяється на: 5 регіонів і одне місто, прирівняне до регіону. Регіони країни розділені на округи — всього 11, при чому деякі округи охоплюють різні регіони (але саме округи й вважаються головною адміністративною одиницею). В свою чергу округи складаються з муніципалітетів. Округами управляють комісари республіки (префекти), які водночас є ще й мерами окружних центрів."
   ]
  },
  {
   "cell_type": "markdown",
   "id": "3a3a5caa-1cf1-4450-934d-f05d15ead8bd",
   "metadata": {},
   "source": [
    "* Географічно-територіальні регіони Джибуті:\n",
    "    * Регіон Алі-Сабіх\n",
    "    * Регіон Арта\n",
    "    * Регіон Дикіль\n",
    "    * Джибуті (місто)\n",
    "    * Регіон Обок\n",
    "    * Регіон Таджура\n",
    "\n",
    "* Адміністративні одиниці Джибуті — округи:\n",
    "    + Алайлі округ\n",
    "    + Алі-Сабіх округ\n",
    "        - Ас Ейла\n",
    "        - Балга округ\n",
    "    + Джибуті округ \n",
    "    + Ранда округ\n",
    "    + Таджура округ\n",
    "    + Йобокі округ"
   ]
  },
  {
   "cell_type": "markdown",
   "id": "59abe78e-33ba-4425-a171-5ba029c8e08a",
   "metadata": {},
   "source": [
    "## Регіони країни:"
   ]
  },
  {
   "cell_type": "markdown",
   "id": "e40fbabb-b407-42b6-8fde-de32f9c32fb1",
   "metadata": {},
   "source": [
    "<img src=\"https://upload.wikimedia.org/wikipedia/commons/thumb/c/c5/Regions_of_Djibouti_uk.svg/1024px-Regions_of_Djibouti_uk.svg.png\" alt=\"Регіони Джибуті\" width=\"400\" height=\"200\">"
   ]
  },
  {
   "cell_type": "markdown",
   "id": "7e25ca33-73ba-411e-a593-81e233aec667",
   "metadata": {},
   "source": [
    "## Округи країни:"
   ]
  },
  {
   "cell_type": "markdown",
   "id": "2a1b5c96-61ec-45f6-9a32-b6f8d82c5f32",
   "metadata": {},
   "source": [
    "<img src=\"data:image/png;base64,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\" alt=\"Округи Джибуті\" width=\"400\" height=\"200\">"
   ]
  },
  {
   "cell_type": "markdown",
   "id": "7062a7e6-84f0-45cc-b10f-bd9125e1dcb9",
   "metadata": {},
   "source": [
    "<a href=\"https://uk.wikipedia.org/wiki/%D0%94%D0%B6%D0%B8%D0%B1%D1%83%D1%82%D1%96\">Використане джерело (Вікіпедія)</a>"
   ]
  },
  {
   "cell_type": "code",
   "execution_count": null,
   "id": "3db48703-f962-444d-ada6-cf5d56ce83e5",
   "metadata": {},
   "outputs": [],
   "source": [
    "def task_5():\n",
    "    user_input = input(\"Введіть список цілих чисел через пробіл: \").split()\n",
    "\n",
    "    if all(item.lstrip('-').isdigit() for item in user_input):\n",
    "        arr = list(map(int, user_input))\n",
    "\n",
    "        swap_count = 0\n",
    "\n",
    "        n = len(arr)\n",
    "        for i in range(n):\n",
    "            for j in range(0, n-i-1):\n",
    "                if arr[j] > arr[j+1]:\n",
    "                    arr[j], arr[j+1] = arr[j+1], arr[j]\n",
    "                    swap_count += 1  \n",
    "\n",
    "        print(f\"Було виконано {swap_count} переставлень\")\n",
    "    else:\n",
    "        print(\"Помилка: введено некоректні символи. Введіть тільки цілі числа.\")\n",
    "\n",
    "task_5()"
   ]
  },
  {
   "cell_type": "code",
   "execution_count": null,
   "id": "69e19b09-14b4-4104-b0f3-acd54295df32",
   "metadata": {},
   "outputs": [],
   "source": []
  }
 ],
 "metadata": {
  "kernelspec": {
   "display_name": "Python 3 (ipykernel)",
   "language": "python",
   "name": "python3"
  },
  "language_info": {
   "codemirror_mode": {
    "name": "ipython",
    "version": 3
   },
   "file_extension": ".py",
   "mimetype": "text/x-python",
   "name": "python",
   "nbconvert_exporter": "python",
   "pygments_lexer": "ipython3",
   "version": "3.12.4"
  }
 },
 "nbformat": 4,
 "nbformat_minor": 5
}
